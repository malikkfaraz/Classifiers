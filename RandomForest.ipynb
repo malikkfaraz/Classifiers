{
 "cells": [
  {
   "cell_type": "code",
   "execution_count": 1,
   "metadata": {},
   "outputs": [],
   "source": [
    "import matplotlib as plt\n",
    "import numpy as np\n",
    "import sklearn\n",
    "import matplotlib\n",
    "import matplotlib.pyplot as plt\n",
    "plt.rc(\"font\",size=14)\n",
    "import pandas as pd\n",
    "%matplotlib inline\n",
    "from sklearn import datasets,linear_model,metrics\n",
    "from sklearn.model_selection import train_test_split\n",
    "from sklearn import preprocessing\n",
    "from sklearn.metrics import confusion_matrix\n",
    "from sklearn.metrics import accuracy_score\n",
    "from sklearn.metrics import classification_report\n",
    "from sklearn.tree import DecisionTreeClassifier\n",
    "import seaborn as sns\n",
    "sns.set(style=\"white\")\n",
    "sns.set(style=\"whitegrid\",color_codes=True)\n"
   ]
  },
  {
   "cell_type": "code",
   "execution_count": 2,
   "metadata": {},
   "outputs": [
    {
     "data": {
      "text/plain": [
       "array([27, 27, 26, ...,  5,  4,  5], dtype=int64)"
      ]
     },
     "execution_count": 2,
     "metadata": {},
     "output_type": "execute_result"
    }
   ],
   "source": [
    "data = pd.read_csv(r'temp.csv')\n",
    "data = data.dropna()\n",
    "data.head()\n",
    "data = pd.get_dummies(data)\n",
    "labels = np.array(data['MaxTemp'])\n",
    "data = data.drop('MaxTemp', axis =1)\n",
    "data_list = list(data.columns)\n",
    "X = data.values[:,0:]\n",
    "y = np.array(labels)\n",
    "y"
   ]
  },
  {
   "cell_type": "code",
   "execution_count": 8,
   "metadata": {},
   "outputs": [
    {
     "name": "stdout",
     "output_type": "stream",
     "text": [
      "(3116, 30)\n",
      "(780, 30)\n",
      "(780,)\n",
      "(3116,)\n"
     ]
    }
   ],
   "source": [
    "\n",
    "X_train,X_test,y_train,y_test = train_test_split(X,y,test_size =0.2, random_state = 100 )\n",
    "print(X_train.shape)\n",
    "print(X_test.shape)\n",
    "print(y_test.shape)\n",
    "print(y_train.shape)"
   ]
  },
  {
   "cell_type": "code",
   "execution_count": 9,
   "metadata": {},
   "outputs": [
    {
     "data": {
      "text/plain": [
       "RandomForestRegressor(bootstrap=True, criterion='mse', max_depth=None,\n",
       "                      max_features='auto', max_leaf_nodes=None,\n",
       "                      min_impurity_decrease=0.0, min_impurity_split=None,\n",
       "                      min_samples_leaf=1, min_samples_split=2,\n",
       "                      min_weight_fraction_leaf=0.0, n_estimators=100,\n",
       "                      n_jobs=None, oob_score=False, random_state=100, verbose=0,\n",
       "                      warm_start=False)"
      ]
     },
     "execution_count": 9,
     "metadata": {},
     "output_type": "execute_result"
    }
   ],
   "source": [
    "from sklearn.ensemble import RandomForestRegressor\n",
    "rf = RandomForestRegressor(n_estimators = 100 , random_state = 100)\n",
    "rf.fit(X_train,y_train)"
   ]
  },
  {
   "cell_type": "code",
   "execution_count": 10,
   "metadata": {},
   "outputs": [
    {
     "name": "stdout",
     "output_type": "stream",
     "text": [
      "mean absolute error 1.57 degrees\n"
     ]
    }
   ],
   "source": [
    "predictions = rf.predict(X_test)\n",
    "errors = abs(predictions - y_test)\n",
    "print('mean absolute error',round(np.mean(errors),2),'degrees')"
   ]
  },
  {
   "cell_type": "code",
   "execution_count": 19,
   "metadata": {},
   "outputs": [
    {
     "name": "stdout",
     "output_type": "stream",
     "text": [
      "accuracy : 88.5 %.\n",
      "[11.18       26.12       21.91       29.61       15.72       13.96\n",
      " 10.14       12.35       10.05       15.87       16.4        13.48\n",
      " 24.51       21.51       26.44       11.78       19.78       12.07\n",
      " 15.9        29.16        8.85       21.55       10.95       19.73\n",
      " 11.96        4.25       25.88        8.86       16.12       28.92\n",
      "  5.04        9.21       10.7         9.24       28.88       21.58\n",
      " 29.01       15.49       17.72       20.59       14.06       20.11\n",
      " 26.16       12.87       10.19        8.58       14.71       25.7\n",
      " 15.34        8.06       14.34        3.88       10.76       10.53\n",
      " 20.74       14.69        7.75       23.43        6.48       25.175\n",
      " 24.34       24.27       24.05       10.69       10.24       26.12\n",
      " 12.1        11.5        21.77        6.2        12.5        16.8\n",
      "  3.91       18.28       23.08       27.81        6.9        22.24\n",
      " 26.10892857 28.09       21.78       23.37        9.61       21.13\n",
      " 13.67       25.78       26.485      26.8        26.1        10.61\n",
      " 10.46        6.08       31.1        25.14261905  9.18        8.37\n",
      " 26.1        20.97       28.95       24.12       28.49       16.65\n",
      " 14.27        7.21        6.27       14.93        6.06       28.57\n",
      " 16.61       29.5        16.81       10.76       20.46       12.01\n",
      " 23.59       12.8         7.35       26.0575     20.18       23.37\n",
      " 22.34       28.32       17.7        14.6        21.01       27.92\n",
      " 22.56       28.13       24.95       27.31        9.22       15.44\n",
      " 20.76       19.72       18.76       13.58       26.78       19.24\n",
      " 26.11       21.01       10.79       11.91916667 22.02        9.86\n",
      "  5.31       23.48        3.17       14.48       28.54       24.865\n",
      " 23.45        5.82       13.13        6.21       12.88       14.51\n",
      " 23.09       28.62       15.96       13.35        8.16       24.085\n",
      " 13.89       17.44       21.26       27.61       21.86       16.54\n",
      "  6.84       28.09       13.52       19.86       29.37       28.30333333\n",
      " 17.12       25.84       26.77       28.78       26.5        18.28\n",
      " 27.52       14.37       19.84       15.29       26.95       10.78\n",
      "  4.89        9.22       25.37       12.1         8.83       28.32\n",
      " 10.66       28.51       27.06       28.56       15.49       22.38\n",
      " 24.469      20.58        6.52        3.04       19.66       20.29\n",
      " 19.01       27.12        4.98        6.56       29.22       16.83\n",
      " 27.59       26.18       27.61       14.69       29.25       16.84\n",
      "  6.33       14.9         9.93       15.13       28.49       24.68\n",
      "  9.01       11.12       11.7        28.2        19.46       16.83\n",
      " 29.15       20.27       23.35       17.45       27.73333333 30.69\n",
      " 11.24       26.42       20.16       18.93       25.22       18.98\n",
      " 10.75       10.76       14.35       21.95       17.76       13.45\n",
      " 19.4        11.28        8.7         9.21       13.5        12.71\n",
      " 16.08        8.73       19.9        13.59       10.13       13.58\n",
      "  7.49       16.12       21.95       26.9        11.02       18.1\n",
      "  3.99       26.56       14.59       26.8        11.33       17.44\n",
      " 28.33       17.62       20.82       27.24       28.58       26.3\n",
      " 14.21        8.55       18.23       25.85       13.94       28.39\n",
      " 11.56       13.12       30.26        9.2         6.53       29.68\n",
      "  1.15       21.06        5.09       24.18       25.11       21.38\n",
      " 19.2        21.51       10.49       28.88       10.84       27.17\n",
      " 27.29       16.71        6.15        8.74        6.69       28.14\n",
      " 18.58       19.38       28.56142857  6.99       12.85       15.75\n",
      " 12.43       28.         26.19        3.39        7.24       22.22\n",
      " 26.23        7.47       27.32        7.15       11.79        8.87\n",
      "  6.36       16.12       11.89       20.34       28.35       21.68\n",
      "  8.46       22.58       10.23        2.27       29.04       22.13\n",
      " 28.12       27.37       13.97       12.51       16.28       28.4\n",
      "  2.29       28.91       22.26        8.86       28.34       16.58\n",
      " 14.61       25.18066667 20.93       24.88        6.95       29.84\n",
      "  9.2        16.24       17.26       12.04       14.6        19.33\n",
      " 17.28       19.71       26.93       26.6        18.75       15.91\n",
      " 25.79       24.84       27.04        9.63       24.29       26.72\n",
      "  6.07        9.9        10.63       20.84       21.15       12.64\n",
      " 15.53       18.83       15.87       21.24       11.29       28.55\n",
      " 16.15       12.53       27.06       16.35       24.73       24.86433333\n",
      "  6.18       10.05        9.22       14.01       10.88       26.29\n",
      " 12.96       10.51       17.4        14.27        9.44        8.78\n",
      " 15.24       27.92       29.19       10.75       27.06       10.6\n",
      " 17.14       19.988       9.55       12.84        4.76        2.27\n",
      " 13.1        18.49       12.85        9.83       27.92        2.97\n",
      " 12.07       18.84       18.46       10.66       23.63666667 16.86\n",
      " 12.14       16.07       14.73       14.8        16.64       18.1\n",
      "  1.51       21.02       10.78       14.17       20.44       18.52\n",
      "  7.3        10.22333333 19.6         5.56       20.53       24.12\n",
      " 24.58       18.95       26.9        15.5        21.2         6.\n",
      " 25.07       25.57       21.79       10.94       29.23       20.6\n",
      " 25.87       10.59       29.33       16.4        20.85       16.4\n",
      " 29.88       11.4895     16.49        8.38       10.24       14.59\n",
      " 26.51        5.92       19.8        22.68       23.81       28.11\n",
      " 10.85       17.69       15.19       21.89       25.05       28.69\n",
      " 13.67       17.06       19.47       21.89       19.45       25.69\n",
      " 25.65        9.37       21.53       25.1372619  17.92       28.03\n",
      " 16.58       10.65       27.36       13.7        15.91       12.17\n",
      " 19.31       17.34       10.57       13.45        7.18       24.89\n",
      " 23.63       18.06       29.53       10.31       17.42        2.39\n",
      "  6.93       21.29       26.43       16.45       16.2         9.1\n",
      " 14.32       13.91       20.5         4.9        13.71       26.35\n",
      " 28.93       27.73       13.94       18.88       27.96       21.86\n",
      " 25.68       11.84       27.205      12.09       24.79       29.36\n",
      "  8.31       25.73       23.63       26.37        6.8        14.44\n",
      " 27.76       28.73       15.          9.17       12.34       21.1\n",
      " 13.7        28.34       12.08       17.74        9.09        9.78\n",
      " 24.57       21.03       13.58       21.21       24.85       27.53\n",
      " 18.97       16.03666667 27.71        5.31       29.35        9.16\n",
      " 10.2075      8.77       20.39       21.         11.385      24.96\n",
      " 14.48        6.42       24.94       25.1785     25.71       28.52\n",
      " 19.83       12.01        7.93       17.4        21.08       22.24\n",
      " 25.48       16.14       10.42       14.04       16.59        8.73\n",
      " 25.53       23.37        7.86        8.58       16.2        25.65\n",
      " 16.33       26.17       11.77       11.67       22.07       27.31\n",
      " 25.15       28.66       18.59        6.5        24.97542857 30.\n",
      " 13.49        2.59        9.72       26.445      13.6        20.29\n",
      " 10.4        30.1        16.16       10.94       18.2         1.45\n",
      " 17.32       24.12        9.48       18.54        6.38        6.96\n",
      " 17.97       29.52       28.7         3.15        9.69       27.88\n",
      " 28.06       24.84       24.466      28.18        2.15        7.05\n",
      " 16.26       24.36       21.83        5.29       10.37       13.95\n",
      " 16.97       21.95       20.08       14.66        2.41       20.81\n",
      " 24.93333333 28.32       12.44        9.48       26.47       28.15\n",
      " 24.87       10.3675     27.55       23.95       12.42       28.3\n",
      " 14.6        16.66       14.22        9.02       15.29       14.88\n",
      " 16.33       23.61       29.06       27.32       10.35       28.46\n",
      "  8.37        7.36       15.02       22.96       14.08        8.44\n",
      "  7.23       16.15       17.38       10.23       20.42       12.29\n",
      " 29.73       11.51       25.83083333 -0.81       23.15       20.54\n",
      "  6.72        3.61       27.43       14.49       29.32       20.51\n",
      " 28.31       27.6        19.77        5.76       16.05       29.61\n",
      " 22.95       12.1        28.89       28.03       22.69       10.73\n",
      " 25.56       20.33       25.52       26.58        6.03       14.12\n",
      " 28.18       26.15       19.96       28.18        6.75       26.82\n",
      " 21.77       27.22       21.97       14.03       11.85        2.7\n",
      " 24.69833333  2.41       24.15       10.65        9.5        27.75\n",
      " 18.99       11.1        28.36        5.22       24.06       23.85\n",
      " 25.87666667  9.99       13.62       21.19       28.41        7.16\n",
      " 10.67        2.06       20.91       10.37       22.01        7.94\n",
      " 24.07        6.4        23.895      14.1         5.09       27.99\n",
      "  8.71       22.55       21.43       13.63       20.65        4.02\n",
      " 11.45       16.2        18.69       16.59       12.16        4.19\n",
      " 14.37        9.88       17.92333333  7.59       29.03        6.04\n",
      " 28.28       20.53       19.23       20.01       19.99       11.9       ]\n"
     ]
    }
   ],
   "source": [
    "mape = 100*(errors/y_test)\n",
    "accuracy = 100-np.mean(mape)\n",
    "print('accuracy :',round(accuracy,2),'%.')\n",
    "print(predictions)"
   ]
  },
  {
   "cell_type": "code",
   "execution_count": 23,
   "metadata": {},
   "outputs": [],
   "source": [
    "import pydot\n",
    "from sklearn.tree import export_graphviz\n",
    "tree = rf.estimators_[5] #pull out tree from forest\n",
    "export_graphviz(tree, out_file = 'tree.dot', feature_names = data_list,rounded=True,precision=1)\n",
    "(graph,) = pydot.graph_from_dot_file('tree.dot')\n",
    "graph.write_png('tree.png')"
   ]
  },
  {
   "cell_type": "code",
   "execution_count": 30,
   "metadata": {},
   "outputs": [],
   "source": [
    "rf_small = RandomForestRegressor(n_estimators = 100 , max_depth = 3)\n",
    "rf_small.fit(X_train,y_train)\n",
    "tree_small = rf.estimators_[5] #pull out tree from forest\n",
    "export_graphviz(tree, out_file = 'small_tree.dot', feature_names = data_list,rounded=True,precision=1)\n",
    "(graph,) = pydot.graph_from_dot_file('small_tree.dot')\n",
    "graph.write_png('small_tree.png')"
   ]
  },
  {
   "cell_type": "code",
   "execution_count": 34,
   "metadata": {},
   "outputs": [
    {
     "data": {
      "text/plain": [
       "[('MinTemp', 0.9),\n",
       " ('AvgHumidity', 0.04),\n",
       " ('AvgWind', 0.03),\n",
       " ('AvgPressure', 0.02),\n",
       " ('Condition_Blizzard', 0.0),\n",
       " ('Condition_Cloudy', 0.0),\n",
       " ('Condition_Fog', 0.0),\n",
       " ('Condition_Heavy rain', 0.0),\n",
       " ('Condition_Heavy rain at times', 0.0),\n",
       " ('Condition_Light drizzle', 0.0),\n",
       " ('Condition_Light rain', 0.0),\n",
       " ('Condition_Light rain shower', 0.0),\n",
       " ('Condition_Light sleet', 0.0),\n",
       " ('Condition_Light sleet showers', 0.0),\n",
       " ('Condition_Mist', 0.0),\n",
       " ('Condition_Moderate or heavy rain shower', 0.0),\n",
       " ('Condition_Moderate or heavy rain with thunder', 0.0),\n",
       " ('Condition_Moderate or heavy sleet', 0.0),\n",
       " ('Condition_Moderate or heavy snow showers', 0.0),\n",
       " ('Condition_Moderate rain', 0.0),\n",
       " ('Condition_Moderate rain at times', 0.0),\n",
       " ('Condition_Moderate snow', 0.0),\n",
       " ('Condition_Overcast', 0.0),\n",
       " ('Condition_Partly cloudy', 0.0),\n",
       " ('Condition_Patchy light drizzle', 0.0),\n",
       " ('Condition_Patchy light rain with thunder', 0.0),\n",
       " ('Condition_Patchy rain possible', 0.0),\n",
       " ('Condition_Sunny', 0.0),\n",
       " ('Condition_Thundery outbreaks possible', 0.0),\n",
       " ('Condition_Torrential rain shower', 0.0)]"
      ]
     },
     "execution_count": 34,
     "metadata": {},
     "output_type": "execute_result"
    }
   ],
   "source": [
    "importances = list(rf.feature_importances_)\n",
    "feature_importances = [(feature,round(importance,2)) for feature, importance in zip(data_list,importances)]\n",
    "feature_importances = sorted(feature_importances, key = lambda x:x[1],reverse =True)\n",
    "feature_importances"
   ]
  },
  {
   "cell_type": "code",
   "execution_count": null,
   "metadata": {},
   "outputs": [],
   "source": []
  }
 ],
 "metadata": {
  "kernelspec": {
   "display_name": "Python 3",
   "language": "python",
   "name": "python3"
  },
  "language_info": {
   "codemirror_mode": {
    "name": "ipython",
    "version": 3
   },
   "file_extension": ".py",
   "mimetype": "text/x-python",
   "name": "python",
   "nbconvert_exporter": "python",
   "pygments_lexer": "ipython3",
   "version": "3.7.4"
  }
 },
 "nbformat": 4,
 "nbformat_minor": 2
}
